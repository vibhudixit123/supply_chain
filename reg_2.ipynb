{
  "cells": [
    {
      "cell_type": "code",
      "execution_count": 1,
      "id": "bbc1bb79",
      "metadata": {
        "id": "bbc1bb79"
      },
      "outputs": [],
      "source": [
        "import numpy as np\n",
        "import pandas as pd\n",
        "from sklearn.linear_model import Lasso\n",
        "from sklearn import metrics\n",
        "import math\n",
        "from sklearn import linear_model\n",
        "import matplotlib.pyplot as plt\n",
        "%matplotlib inline\n",
        "from sklearn.compose import make_column_transformer\n",
        "from sklearn.preprocessing import OneHotEncoder,StandardScaler\n",
        "from sklearn.metrics import r2_score\n"
      ]
    },
    {
      "cell_type": "code",
      "execution_count": 2,
      "id": "79588451",
      "metadata": {
        "id": "79588451",
        "outputId": "ebb3e24c-6c7f-4286-9d35-d049b19cd9b2",
        "colab": {
          "base_uri": "https://localhost:8080/",
          "height": 337
        }
      },
      "outputs": [
        {
          "output_type": "execute_result",
          "data": {
            "text/plain": [
              "   Country                                          Commodity    Flow  \\\n",
              "0  Albania  Poultry cuts & offal, except livers, fresh or ...  Export   \n",
              "1  Albania  Poultry cuts & offal, except livers, fresh or ...  Export   \n",
              "2  Albania  Swine meat, salted/dried/smoked not ham/should...  Export   \n",
              "3  Albania                     Fowls, domestic, whole, frozen  Export   \n",
              "4  Albania  Meat and edible offal nes fresh, chilled or fr...  Export   \n",
              "\n",
              "   Quantity                       Category  Volume (m^3)  \\\n",
              "0        34  02_meat_and_edible_meat_offal            12   \n",
              "1        23  02_meat_and_edible_meat_offal            12   \n",
              "2        11  02_meat_and_edible_meat_offal            12   \n",
              "3        50  02_meat_and_edible_meat_offal            12   \n",
              "4        71  02_meat_and_edible_meat_offal            12   \n",
              "\n",
              "   Distance from India (m)  Frieght Cost (USD)  \n",
              "0              5940.830501         4840.697837  \n",
              "1              5940.830501         3069.710823  \n",
              "2              5940.830501         1475.822511  \n",
              "3              5940.830501         7083.948054  \n",
              "4              5940.830501         9976.560176  "
            ],
            "text/html": [
              "\n",
              "  <div id=\"df-05a32488-8f2f-401d-a644-c46305853752\">\n",
              "    <div class=\"colab-df-container\">\n",
              "      <div>\n",
              "<style scoped>\n",
              "    .dataframe tbody tr th:only-of-type {\n",
              "        vertical-align: middle;\n",
              "    }\n",
              "\n",
              "    .dataframe tbody tr th {\n",
              "        vertical-align: top;\n",
              "    }\n",
              "\n",
              "    .dataframe thead th {\n",
              "        text-align: right;\n",
              "    }\n",
              "</style>\n",
              "<table border=\"1\" class=\"dataframe\">\n",
              "  <thead>\n",
              "    <tr style=\"text-align: right;\">\n",
              "      <th></th>\n",
              "      <th>Country</th>\n",
              "      <th>Commodity</th>\n",
              "      <th>Flow</th>\n",
              "      <th>Quantity</th>\n",
              "      <th>Category</th>\n",
              "      <th>Volume (m^3)</th>\n",
              "      <th>Distance from India (m)</th>\n",
              "      <th>Frieght Cost (USD)</th>\n",
              "    </tr>\n",
              "  </thead>\n",
              "  <tbody>\n",
              "    <tr>\n",
              "      <th>0</th>\n",
              "      <td>Albania</td>\n",
              "      <td>Poultry cuts &amp; offal, except livers, fresh or ...</td>\n",
              "      <td>Export</td>\n",
              "      <td>34</td>\n",
              "      <td>02_meat_and_edible_meat_offal</td>\n",
              "      <td>12</td>\n",
              "      <td>5940.830501</td>\n",
              "      <td>4840.697837</td>\n",
              "    </tr>\n",
              "    <tr>\n",
              "      <th>1</th>\n",
              "      <td>Albania</td>\n",
              "      <td>Poultry cuts &amp; offal, except livers, fresh or ...</td>\n",
              "      <td>Export</td>\n",
              "      <td>23</td>\n",
              "      <td>02_meat_and_edible_meat_offal</td>\n",
              "      <td>12</td>\n",
              "      <td>5940.830501</td>\n",
              "      <td>3069.710823</td>\n",
              "    </tr>\n",
              "    <tr>\n",
              "      <th>2</th>\n",
              "      <td>Albania</td>\n",
              "      <td>Swine meat, salted/dried/smoked not ham/should...</td>\n",
              "      <td>Export</td>\n",
              "      <td>11</td>\n",
              "      <td>02_meat_and_edible_meat_offal</td>\n",
              "      <td>12</td>\n",
              "      <td>5940.830501</td>\n",
              "      <td>1475.822511</td>\n",
              "    </tr>\n",
              "    <tr>\n",
              "      <th>3</th>\n",
              "      <td>Albania</td>\n",
              "      <td>Fowls, domestic, whole, frozen</td>\n",
              "      <td>Export</td>\n",
              "      <td>50</td>\n",
              "      <td>02_meat_and_edible_meat_offal</td>\n",
              "      <td>12</td>\n",
              "      <td>5940.830501</td>\n",
              "      <td>7083.948054</td>\n",
              "    </tr>\n",
              "    <tr>\n",
              "      <th>4</th>\n",
              "      <td>Albania</td>\n",
              "      <td>Meat and edible offal nes fresh, chilled or fr...</td>\n",
              "      <td>Export</td>\n",
              "      <td>71</td>\n",
              "      <td>02_meat_and_edible_meat_offal</td>\n",
              "      <td>12</td>\n",
              "      <td>5940.830501</td>\n",
              "      <td>9976.560176</td>\n",
              "    </tr>\n",
              "  </tbody>\n",
              "</table>\n",
              "</div>\n",
              "      <button class=\"colab-df-convert\" onclick=\"convertToInteractive('df-05a32488-8f2f-401d-a644-c46305853752')\"\n",
              "              title=\"Convert this dataframe to an interactive table.\"\n",
              "              style=\"display:none;\">\n",
              "        \n",
              "  <svg xmlns=\"http://www.w3.org/2000/svg\" height=\"24px\"viewBox=\"0 0 24 24\"\n",
              "       width=\"24px\">\n",
              "    <path d=\"M0 0h24v24H0V0z\" fill=\"none\"/>\n",
              "    <path d=\"M18.56 5.44l.94 2.06.94-2.06 2.06-.94-2.06-.94-.94-2.06-.94 2.06-2.06.94zm-11 1L8.5 8.5l.94-2.06 2.06-.94-2.06-.94L8.5 2.5l-.94 2.06-2.06.94zm10 10l.94 2.06.94-2.06 2.06-.94-2.06-.94-.94-2.06-.94 2.06-2.06.94z\"/><path d=\"M17.41 7.96l-1.37-1.37c-.4-.4-.92-.59-1.43-.59-.52 0-1.04.2-1.43.59L10.3 9.45l-7.72 7.72c-.78.78-.78 2.05 0 2.83L4 21.41c.39.39.9.59 1.41.59.51 0 1.02-.2 1.41-.59l7.78-7.78 2.81-2.81c.8-.78.8-2.07 0-2.86zM5.41 20L4 18.59l7.72-7.72 1.47 1.35L5.41 20z\"/>\n",
              "  </svg>\n",
              "      </button>\n",
              "      \n",
              "  <style>\n",
              "    .colab-df-container {\n",
              "      display:flex;\n",
              "      flex-wrap:wrap;\n",
              "      gap: 12px;\n",
              "    }\n",
              "\n",
              "    .colab-df-convert {\n",
              "      background-color: #E8F0FE;\n",
              "      border: none;\n",
              "      border-radius: 50%;\n",
              "      cursor: pointer;\n",
              "      display: none;\n",
              "      fill: #1967D2;\n",
              "      height: 32px;\n",
              "      padding: 0 0 0 0;\n",
              "      width: 32px;\n",
              "    }\n",
              "\n",
              "    .colab-df-convert:hover {\n",
              "      background-color: #E2EBFA;\n",
              "      box-shadow: 0px 1px 2px rgba(60, 64, 67, 0.3), 0px 1px 3px 1px rgba(60, 64, 67, 0.15);\n",
              "      fill: #174EA6;\n",
              "    }\n",
              "\n",
              "    [theme=dark] .colab-df-convert {\n",
              "      background-color: #3B4455;\n",
              "      fill: #D2E3FC;\n",
              "    }\n",
              "\n",
              "    [theme=dark] .colab-df-convert:hover {\n",
              "      background-color: #434B5C;\n",
              "      box-shadow: 0px 1px 3px 1px rgba(0, 0, 0, 0.15);\n",
              "      filter: drop-shadow(0px 1px 2px rgba(0, 0, 0, 0.3));\n",
              "      fill: #FFFFFF;\n",
              "    }\n",
              "  </style>\n",
              "\n",
              "      <script>\n",
              "        const buttonEl =\n",
              "          document.querySelector('#df-05a32488-8f2f-401d-a644-c46305853752 button.colab-df-convert');\n",
              "        buttonEl.style.display =\n",
              "          google.colab.kernel.accessAllowed ? 'block' : 'none';\n",
              "\n",
              "        async function convertToInteractive(key) {\n",
              "          const element = document.querySelector('#df-05a32488-8f2f-401d-a644-c46305853752');\n",
              "          const dataTable =\n",
              "            await google.colab.kernel.invokeFunction('convertToInteractive',\n",
              "                                                     [key], {});\n",
              "          if (!dataTable) return;\n",
              "\n",
              "          const docLinkHtml = 'Like what you see? Visit the ' +\n",
              "            '<a target=\"_blank\" href=https://colab.research.google.com/notebooks/data_table.ipynb>data table notebook</a>'\n",
              "            + ' to learn more about interactive tables.';\n",
              "          element.innerHTML = '';\n",
              "          dataTable['output_type'] = 'display_data';\n",
              "          await google.colab.output.renderOutput(dataTable, element);\n",
              "          const docLink = document.createElement('div');\n",
              "          docLink.innerHTML = docLinkHtml;\n",
              "          element.appendChild(docLink);\n",
              "        }\n",
              "      </script>\n",
              "    </div>\n",
              "  </div>\n",
              "  "
            ]
          },
          "metadata": {},
          "execution_count": 2
        }
      ],
      "source": [
        "df1 = pd.read_csv('Dataset_Hackathon.csv')\n",
        "df1.head()"
      ]
    },
    {
      "cell_type": "code",
      "execution_count": 3,
      "id": "652d409a",
      "metadata": {
        "id": "652d409a",
        "outputId": "253fe265-b162-4ebe-90c3-94d418d2a388",
        "colab": {
          "base_uri": "https://localhost:8080/",
          "height": 206
        }
      },
      "outputs": [
        {
          "output_type": "execute_result",
          "data": {
            "text/plain": [
              "   Quantity  Volume (m^3)  Distance from India (m)  Frieght Cost (USD)\n",
              "0        34            12              5940.830501         4840.697837\n",
              "1        23            12              5940.830501         3069.710823\n",
              "2        11            12              5940.830501         1475.822511\n",
              "3        50            12              5940.830501         7083.948054\n",
              "4        71            12              5940.830501         9976.560176"
            ],
            "text/html": [
              "\n",
              "  <div id=\"df-818357d8-58ca-426d-b319-8bd0e6f36625\">\n",
              "    <div class=\"colab-df-container\">\n",
              "      <div>\n",
              "<style scoped>\n",
              "    .dataframe tbody tr th:only-of-type {\n",
              "        vertical-align: middle;\n",
              "    }\n",
              "\n",
              "    .dataframe tbody tr th {\n",
              "        vertical-align: top;\n",
              "    }\n",
              "\n",
              "    .dataframe thead th {\n",
              "        text-align: right;\n",
              "    }\n",
              "</style>\n",
              "<table border=\"1\" class=\"dataframe\">\n",
              "  <thead>\n",
              "    <tr style=\"text-align: right;\">\n",
              "      <th></th>\n",
              "      <th>Quantity</th>\n",
              "      <th>Volume (m^3)</th>\n",
              "      <th>Distance from India (m)</th>\n",
              "      <th>Frieght Cost (USD)</th>\n",
              "    </tr>\n",
              "  </thead>\n",
              "  <tbody>\n",
              "    <tr>\n",
              "      <th>0</th>\n",
              "      <td>34</td>\n",
              "      <td>12</td>\n",
              "      <td>5940.830501</td>\n",
              "      <td>4840.697837</td>\n",
              "    </tr>\n",
              "    <tr>\n",
              "      <th>1</th>\n",
              "      <td>23</td>\n",
              "      <td>12</td>\n",
              "      <td>5940.830501</td>\n",
              "      <td>3069.710823</td>\n",
              "    </tr>\n",
              "    <tr>\n",
              "      <th>2</th>\n",
              "      <td>11</td>\n",
              "      <td>12</td>\n",
              "      <td>5940.830501</td>\n",
              "      <td>1475.822511</td>\n",
              "    </tr>\n",
              "    <tr>\n",
              "      <th>3</th>\n",
              "      <td>50</td>\n",
              "      <td>12</td>\n",
              "      <td>5940.830501</td>\n",
              "      <td>7083.948054</td>\n",
              "    </tr>\n",
              "    <tr>\n",
              "      <th>4</th>\n",
              "      <td>71</td>\n",
              "      <td>12</td>\n",
              "      <td>5940.830501</td>\n",
              "      <td>9976.560176</td>\n",
              "    </tr>\n",
              "  </tbody>\n",
              "</table>\n",
              "</div>\n",
              "      <button class=\"colab-df-convert\" onclick=\"convertToInteractive('df-818357d8-58ca-426d-b319-8bd0e6f36625')\"\n",
              "              title=\"Convert this dataframe to an interactive table.\"\n",
              "              style=\"display:none;\">\n",
              "        \n",
              "  <svg xmlns=\"http://www.w3.org/2000/svg\" height=\"24px\"viewBox=\"0 0 24 24\"\n",
              "       width=\"24px\">\n",
              "    <path d=\"M0 0h24v24H0V0z\" fill=\"none\"/>\n",
              "    <path d=\"M18.56 5.44l.94 2.06.94-2.06 2.06-.94-2.06-.94-.94-2.06-.94 2.06-2.06.94zm-11 1L8.5 8.5l.94-2.06 2.06-.94-2.06-.94L8.5 2.5l-.94 2.06-2.06.94zm10 10l.94 2.06.94-2.06 2.06-.94-2.06-.94-.94-2.06-.94 2.06-2.06.94z\"/><path d=\"M17.41 7.96l-1.37-1.37c-.4-.4-.92-.59-1.43-.59-.52 0-1.04.2-1.43.59L10.3 9.45l-7.72 7.72c-.78.78-.78 2.05 0 2.83L4 21.41c.39.39.9.59 1.41.59.51 0 1.02-.2 1.41-.59l7.78-7.78 2.81-2.81c.8-.78.8-2.07 0-2.86zM5.41 20L4 18.59l7.72-7.72 1.47 1.35L5.41 20z\"/>\n",
              "  </svg>\n",
              "      </button>\n",
              "      \n",
              "  <style>\n",
              "    .colab-df-container {\n",
              "      display:flex;\n",
              "      flex-wrap:wrap;\n",
              "      gap: 12px;\n",
              "    }\n",
              "\n",
              "    .colab-df-convert {\n",
              "      background-color: #E8F0FE;\n",
              "      border: none;\n",
              "      border-radius: 50%;\n",
              "      cursor: pointer;\n",
              "      display: none;\n",
              "      fill: #1967D2;\n",
              "      height: 32px;\n",
              "      padding: 0 0 0 0;\n",
              "      width: 32px;\n",
              "    }\n",
              "\n",
              "    .colab-df-convert:hover {\n",
              "      background-color: #E2EBFA;\n",
              "      box-shadow: 0px 1px 2px rgba(60, 64, 67, 0.3), 0px 1px 3px 1px rgba(60, 64, 67, 0.15);\n",
              "      fill: #174EA6;\n",
              "    }\n",
              "\n",
              "    [theme=dark] .colab-df-convert {\n",
              "      background-color: #3B4455;\n",
              "      fill: #D2E3FC;\n",
              "    }\n",
              "\n",
              "    [theme=dark] .colab-df-convert:hover {\n",
              "      background-color: #434B5C;\n",
              "      box-shadow: 0px 1px 3px 1px rgba(0, 0, 0, 0.15);\n",
              "      filter: drop-shadow(0px 1px 2px rgba(0, 0, 0, 0.3));\n",
              "      fill: #FFFFFF;\n",
              "    }\n",
              "  </style>\n",
              "\n",
              "      <script>\n",
              "        const buttonEl =\n",
              "          document.querySelector('#df-818357d8-58ca-426d-b319-8bd0e6f36625 button.colab-df-convert');\n",
              "        buttonEl.style.display =\n",
              "          google.colab.kernel.accessAllowed ? 'block' : 'none';\n",
              "\n",
              "        async function convertToInteractive(key) {\n",
              "          const element = document.querySelector('#df-818357d8-58ca-426d-b319-8bd0e6f36625');\n",
              "          const dataTable =\n",
              "            await google.colab.kernel.invokeFunction('convertToInteractive',\n",
              "                                                     [key], {});\n",
              "          if (!dataTable) return;\n",
              "\n",
              "          const docLinkHtml = 'Like what you see? Visit the ' +\n",
              "            '<a target=\"_blank\" href=https://colab.research.google.com/notebooks/data_table.ipynb>data table notebook</a>'\n",
              "            + ' to learn more about interactive tables.';\n",
              "          element.innerHTML = '';\n",
              "          dataTable['output_type'] = 'display_data';\n",
              "          await google.colab.output.renderOutput(dataTable, element);\n",
              "          const docLink = document.createElement('div');\n",
              "          docLink.innerHTML = docLinkHtml;\n",
              "          element.appendChild(docLink);\n",
              "        }\n",
              "      </script>\n",
              "    </div>\n",
              "  </div>\n",
              "  "
            ]
          },
          "metadata": {},
          "execution_count": 3
        }
      ],
      "source": [
        "# Features\n",
        "X1 = df1.drop(['Country','Commodity','Flow','Category'], axis = 1)\n",
        "X1.head()"
      ]
    },
    {
      "cell_type": "code",
      "execution_count": 4,
      "id": "f3b1cdaa",
      "metadata": {
        "id": "f3b1cdaa",
        "outputId": "40da69ba-70dc-47c3-c151-3e312c1bf6ec",
        "colab": {
          "base_uri": "https://localhost:8080/",
          "height": 729
        }
      },
      "outputs": [
        {
          "output_type": "display_data",
          "data": {
            "text/plain": [
              "<Figure size 720x720 with 3 Axes>"
            ],
            "image/png": "[encoded data removed]"
          },
          "metadata": {
            "needs_background": "light"
          }
        }
      ],
      "source": [
        "columns = X1.drop(\"Frieght Cost (USD)\", axis=\"columns\").columns\n",
        "halfcol = math.ceil(len(columns)/2)\n",
        "fig = plt.figure(figsize=(10,10))\n",
        "\n",
        "for i in range(len(columns)):\n",
        "    plt.subplot(halfcol, halfcol, i+1)\n",
        "    column = columns[i]\n",
        "    plt.xlabel(column)\n",
        "    plt.ylabel(\"Frieght Cost (USD)\")\n",
        "    plt.scatter(X1[column], X1[\"Frieght Cost (USD)\"])\n",
        "\n",
        "fig.tight_layout()"
      ]
    },
    {
      "cell_type": "code",
      "source": [
        "from sklearn.model_selection import train_test_split"
      ],
      "metadata": {
        "id": "rQ6fcuNc1wky"
      },
      "id": "rQ6fcuNc1wky",
      "execution_count": 5,
      "outputs": []
    },
    {
      "cell_type": "code",
      "execution_count": 6,
      "id": "3877dad0",
      "metadata": {
        "id": "3877dad0",
        "outputId": "107c025a-05ac-4860-88e6-b49e778f9592",
        "colab": {
          "base_uri": "https://localhost:8080/"
        }
      },
      "outputs": [
        {
          "output_type": "execute_result",
          "data": {
            "text/plain": [
              "Lasso()"
            ]
          },
          "metadata": {},
          "execution_count": 6
        }
      ],
      "source": [
        "X = X1.drop(\"Frieght Cost (USD)\", axis=\"columns\")\n",
        "Y = X1[\"Frieght Cost (USD)\"]\n",
        "X_train, X_test, Y_train, Y_test = train_test_split(X, Y, test_size=0.4)\n",
        "mymodel = linear_model.Lasso()\n",
        "mymodel.fit(X_train, Y_train)"
      ]
    },
    {
      "cell_type": "code",
      "execution_count": 7,
      "id": "df871b96",
      "metadata": {
        "id": "df871b96",
        "outputId": "90843b5d-a832-4ece-dee8-4225909506a9",
        "colab": {
          "base_uri": "https://localhost:8080/"
        }
      },
      "outputs": [
        {
          "output_type": "execute_result",
          "data": {
            "text/plain": [
              "array([1.36754345e+02, 4.85875506e+02, 3.61951961e-01])"
            ]
          },
          "metadata": {},
          "execution_count": 7
        }
      ],
      "source": [
        "mymodel.coef_"
      ]
    },
    {
      "cell_type": "code",
      "execution_count": 8,
      "id": "f45e522f",
      "metadata": {
        "id": "f45e522f",
        "outputId": "62ab35e8-d1ef-4729-fab1-ba4caf984ac9",
        "colab": {
          "base_uri": "https://localhost:8080/"
        }
      },
      "outputs": [
        {
          "output_type": "execute_result",
          "data": {
            "text/plain": [
              "-7633.940257616387"
            ]
          },
          "metadata": {},
          "execution_count": 8
        }
      ],
      "source": [
        "mymodel.intercept_"
      ]
    },
    {
      "cell_type": "code",
      "execution_count": 9,
      "id": "b5129355",
      "metadata": {
        "id": "b5129355",
        "outputId": "af46dda2-0734-446e-8596-43710eaf7751",
        "colab": {
          "base_uri": "https://localhost:8080/"
        }
      },
      "outputs": [
        {
          "output_type": "execute_result",
          "data": {
            "text/plain": [
              "array([ 5137.13475588,  3312.1565719 ,  9776.53054678, ...,\n",
              "        3148.90360897, 11906.93628455,  2295.2316171 ])"
            ]
          },
          "metadata": {},
          "execution_count": 9
        }
      ],
      "source": [
        "mymodel.predict(X_test)"
      ]
    },
    {
      "cell_type": "code",
      "execution_count": 10,
      "id": "b9cc4989",
      "metadata": {
        "id": "b9cc4989",
        "outputId": "72d2f8f1-b58c-4a7c-9ce9-b6a9a4f50399",
        "colab": {
          "base_uri": "https://localhost:8080/"
        }
      },
      "outputs": [
        {
          "output_type": "execute_result",
          "data": {
            "text/plain": [
              "32573     2134.024072\n",
              "72332     1459.856279\n",
              "29792     6711.530118\n",
              "27839      461.803932\n",
              "78927      376.705863\n",
              "             ...     \n",
              "7814      1707.219257\n",
              "53047     2112.562715\n",
              "12647      570.524114\n",
              "33083    14917.333833\n",
              "18632      691.967794\n",
              "Name: Frieght Cost (USD), Length: 32578, dtype: float64"
            ]
          },
          "metadata": {},
          "execution_count": 10
        }
      ],
      "source": [
        "Y_test"
      ]
    },
    {
      "cell_type": "code",
      "execution_count": 11,
      "id": "be274336",
      "metadata": {
        "id": "be274336",
        "outputId": "aaad8676-e7ba-4cc7-9133-7030d70764b0",
        "colab": {
          "base_uri": "https://localhost:8080/"
        }
      },
      "outputs": [
        {
          "output_type": "execute_result",
          "data": {
            "text/plain": [
              "0.7025218057439002"
            ]
          },
          "metadata": {},
          "execution_count": 11
        }
      ],
      "source": [
        "mymodel.score(X_test,Y_test)"
      ]
    },
    {
      "cell_type": "code",
      "execution_count": 12,
      "id": "cf141718",
      "metadata": {
        "id": "cf141718",
        "outputId": "d3decda8-9aeb-4eba-9482-f64b2d1840b5",
        "colab": {
          "base_uri": "https://localhost:8080/"
        }
      },
      "outputs": [
        {
          "output_type": "stream",
          "name": "stderr",
          "text": [
            "/usr/local/lib/python3.8/dist-packages/sklearn/base.py:450: UserWarning: X does not have valid feature names, but Lasso was fitted with feature names\n",
            "  warnings.warn(\n"
          ]
        },
        {
          "output_type": "execute_result",
          "data": {
            "text/plain": [
              "array([4996.5088008])"
            ]
          },
          "metadata": {},
          "execution_count": 12
        }
      ],
      "source": [
        "mymodel.predict([[34,12,5940.83050148322]])"
      ]
    },
    {
      "cell_type": "code",
      "execution_count": 13,
      "id": "3908be9c",
      "metadata": {
        "id": "3908be9c",
        "outputId": "97caf175-5908-4aad-e4fd-ea0b010a3958",
        "colab": {
          "base_uri": "https://localhost:8080/"
        }
      },
      "outputs": [
        {
          "output_type": "stream",
          "name": "stderr",
          "text": [
            "/usr/local/lib/python3.8/dist-packages/sklearn/base.py:450: UserWarning: X does not have valid feature names, but Lasso was fitted with feature names\n",
            "  warnings.warn(\n"
          ]
        },
        {
          "output_type": "execute_result",
          "data": {
            "text/plain": [
              "array([757.12409868])"
            ]
          },
          "metadata": {},
          "execution_count": 13
        }
      ],
      "source": [
        "mymodel.predict([[3,12,5940.83050148322]])"
      ]
    },
    {
      "cell_type": "code",
      "execution_count": 14,
      "id": "f18099a5",
      "metadata": {
        "id": "f18099a5"
      },
      "outputs": [],
      "source": [
        "from sklearn.pipeline import make_pipeline"
      ]
    },
    {
      "cell_type": "code",
      "source": [
        "lasso = Lasso()"
      ],
      "metadata": {
        "id": "Bq2Gxykb5Vgx"
      },
      "id": "Bq2Gxykb5Vgx",
      "execution_count": 15,
      "outputs": []
    },
    {
      "cell_type": "code",
      "source": [
        "column_trans = make_column_transformer((OneHotEncoder(sparse=False),['Distance from India (m)']),\n",
        "                                       remainder = 'passthrough')\n",
        "                                       "
      ],
      "metadata": {
        "id": "waKc5GQI6Cy8"
      },
      "id": "waKc5GQI6Cy8",
      "execution_count": 16,
      "outputs": []
    },
    {
      "cell_type": "code",
      "source": [
        "scaler = StandardScaler()"
      ],
      "metadata": {
        "id": "_eSmqs1FCwoX"
      },
      "id": "_eSmqs1FCwoX",
      "execution_count": 17,
      "outputs": []
    },
    {
      "cell_type": "code",
      "source": [
        "pipe = make_pipeline(column_trans,scaler,lasso)"
      ],
      "metadata": {
        "id": "3q9yZiPkC1EN"
      },
      "id": "3q9yZiPkC1EN",
      "execution_count": 18,
      "outputs": []
    },
    {
      "cell_type": "code",
      "source": [
        "pipe.fit(X_train,Y_train)"
      ],
      "metadata": {
        "id": "FwCX4bwyDzy9",
        "outputId": "c55548c7-1d23-4c5b-f730-bc01effdc7f4",
        "colab": {
          "base_uri": "https://localhost:8080/"
        }
      },
      "id": "FwCX4bwyDzy9",
      "execution_count": 19,
      "outputs": [
        {
          "output_type": "execute_result",
          "data": {
            "text/plain": [
              "Pipeline(steps=[('columntransformer',\n",
              "                 ColumnTransformer(remainder='passthrough',\n",
              "                                   transformers=[('onehotencoder',\n",
              "                                                  OneHotEncoder(sparse=False),\n",
              "                                                  ['Distance from India '\n",
              "                                                   '(m)'])])),\n",
              "                ('standardscaler', StandardScaler()), ('lasso', Lasso())])"
            ]
          },
          "metadata": {},
          "execution_count": 19
        }
      ]
    },
    {
      "cell_type": "code",
      "source": [
        "Y_pred_lasso = pipe.predict(X_test)\n",
        "r2_score(Y_test,Y_pred_lasso)"
      ],
      "metadata": {
        "id": "f6vaO6cKD-eN",
        "outputId": "469b7b13-3d71-431a-a16d-fd82b3bc6e52",
        "colab": {
          "base_uri": "https://localhost:8080/"
        }
      },
      "id": "f6vaO6cKD-eN",
      "execution_count": 20,
      "outputs": [
        {
          "output_type": "execute_result",
          "data": {
            "text/plain": [
              "0.7081567459861597"
            ]
          },
          "metadata": {},
          "execution_count": 20
        }
      ]
    },
    {
      "cell_type": "code",
      "source": [
        "Y_pred_lasso"
      ],
      "metadata": {
        "id": "NDCJ1xXrGEYZ",
        "outputId": "e2cdcf21-7ee2-4a41-e26f-efd51367677f",
        "colab": {
          "base_uri": "https://localhost:8080/"
        }
      },
      "id": "NDCJ1xXrGEYZ",
      "execution_count": 21,
      "outputs": [
        {
          "output_type": "execute_result",
          "data": {
            "text/plain": [
              "array([ 5509.75723577,  2514.33723481,  9528.18631685, ...,\n",
              "        3402.11140911, 11912.01929567,  2278.19309124])"
            ]
          },
          "metadata": {},
          "execution_count": 21
        }
      ]
    },
    {
      "cell_type": "code",
      "source": [
        "arr=np.array([ 5509.75723577,  2514.33723481,  9528.18631685, ...,\n",
        "        3402.11140911, 11912.01929567,  2278.19309124])"
      ],
      "metadata": {
        "id": "sXSfed5fGHb7"
      },
      "id": "sXSfed5fGHb7",
      "execution_count": 22,
      "outputs": []
    },
    {
      "cell_type": "code",
      "source": [
        "X_test"
      ],
      "metadata": {
        "id": "Rx6f5AQvJiGF",
        "outputId": "d5646bbc-1ff1-4c5e-c02d-c89502d5742b",
        "colab": {
          "base_uri": "https://localhost:8080/",
          "height": 423
        }
      },
      "id": "Rx6f5AQvJiGF",
      "execution_count": 25,
      "outputs": [
        {
          "output_type": "execute_result",
          "data": {
            "text/plain": [
              "       Quantity  Volume (m^3)  Distance from India (m)\n",
              "32573         5            13             15943.888517\n",
              "72332        47             7              3087.465141\n",
              "29792        69            14              3238.451579\n",
              "27839         3             8              6735.016571\n",
              "78927         1             4             15818.502114\n",
              "...         ...           ...                      ...\n",
              "7814          6            10             15943.888517\n",
              "53047        18             6             16165.263816\n",
              "12647         1            10             15989.233629\n",
              "33083        76            13              7821.935046\n",
              "18632         4            15              5785.358640\n",
              "\n",
              "[32578 rows x 3 columns]"
            ],
            "text/html": [
              "\n",
              "  <div id=\"df-c0a08ec7-f733-416b-8b8b-9ce6fc41b541\">\n",
              "    <div class=\"colab-df-container\">\n",
              "      <div>\n",
              "<style scoped>\n",
              "    .dataframe tbody tr th:only-of-type {\n",
              "        vertical-align: middle;\n",
              "    }\n",
              "\n",
              "    .dataframe tbody tr th {\n",
              "        vertical-align: top;\n",
              "    }\n",
              "\n",
              "    .dataframe thead th {\n",
              "        text-align: right;\n",
              "    }\n",
              "</style>\n",
              "<table border=\"1\" class=\"dataframe\">\n",
              "  <thead>\n",
              "    <tr style=\"text-align: right;\">\n",
              "      <th></th>\n",
              "      <th>Quantity</th>\n",
              "      <th>Volume (m^3)</th>\n",
              "      <th>Distance from India (m)</th>\n",
              "    </tr>\n",
              "  </thead>\n",
              "  <tbody>\n",
              "    <tr>\n",
              "      <th>32573</th>\n",
              "      <td>5</td>\n",
              "      <td>13</td>\n",
              "      <td>15943.888517</td>\n",
              "    </tr>\n",
              "    <tr>\n",
              "      <th>72332</th>\n",
              "      <td>47</td>\n",
              "      <td>7</td>\n",
              "      <td>3087.465141</td>\n",
              "    </tr>\n",
              "    <tr>\n",
              "      <th>29792</th>\n",
              "      <td>69</td>\n",
              "      <td>14</td>\n",
              "      <td>3238.451579</td>\n",
              "    </tr>\n",
              "    <tr>\n",
              "      <th>27839</th>\n",
              "      <td>3</td>\n",
              "      <td>8</td>\n",
              "      <td>6735.016571</td>\n",
              "    </tr>\n",
              "    <tr>\n",
              "      <th>78927</th>\n",
              "      <td>1</td>\n",
              "      <td>4</td>\n",
              "      <td>15818.502114</td>\n",
              "    </tr>\n",
              "    <tr>\n",
              "      <th>...</th>\n",
              "      <td>...</td>\n",
              "      <td>...</td>\n",
              "      <td>...</td>\n",
              "    </tr>\n",
              "    <tr>\n",
              "      <th>7814</th>\n",
              "      <td>6</td>\n",
              "      <td>10</td>\n",
              "      <td>15943.888517</td>\n",
              "    </tr>\n",
              "    <tr>\n",
              "      <th>53047</th>\n",
              "      <td>18</td>\n",
              "      <td>6</td>\n",
              "      <td>16165.263816</td>\n",
              "    </tr>\n",
              "    <tr>\n",
              "      <th>12647</th>\n",
              "      <td>1</td>\n",
              "      <td>10</td>\n",
              "      <td>15989.233629</td>\n",
              "    </tr>\n",
              "    <tr>\n",
              "      <th>33083</th>\n",
              "      <td>76</td>\n",
              "      <td>13</td>\n",
              "      <td>7821.935046</td>\n",
              "    </tr>\n",
              "    <tr>\n",
              "      <th>18632</th>\n",
              "      <td>4</td>\n",
              "      <td>15</td>\n",
              "      <td>5785.358640</td>\n",
              "    </tr>\n",
              "  </tbody>\n",
              "</table>\n",
              "<p>32578 rows × 3 columns</p>\n",
              "</div>\n",
              "      <button class=\"colab-df-convert\" onclick=\"convertToInteractive('df-c0a08ec7-f733-416b-8b8b-9ce6fc41b541')\"\n",
              "              title=\"Convert this dataframe to an interactive table.\"\n",
              "              style=\"display:none;\">\n",
              "        \n",
              "  <svg xmlns=\"http://www.w3.org/2000/svg\" height=\"24px\"viewBox=\"0 0 24 24\"\n",
              "       width=\"24px\">\n",
              "    <path d=\"M0 0h24v24H0V0z\" fill=\"none\"/>\n",
              "    <path d=\"M18.56 5.44l.94 2.06.94-2.06 2.06-.94-2.06-.94-.94-2.06-.94 2.06-2.06.94zm-11 1L8.5 8.5l.94-2.06 2.06-.94-2.06-.94L8.5 2.5l-.94 2.06-2.06.94zm10 10l.94 2.06.94-2.06 2.06-.94-2.06-.94-.94-2.06-.94 2.06-2.06.94z\"/><path d=\"M17.41 7.96l-1.37-1.37c-.4-.4-.92-.59-1.43-.59-.52 0-1.04.2-1.43.59L10.3 9.45l-7.72 7.72c-.78.78-.78 2.05 0 2.83L4 21.41c.39.39.9.59 1.41.59.51 0 1.02-.2 1.41-.59l7.78-7.78 2.81-2.81c.8-.78.8-2.07 0-2.86zM5.41 20L4 18.59l7.72-7.72 1.47 1.35L5.41 20z\"/>\n",
              "  </svg>\n",
              "      </button>\n",
              "      \n",
              "  <style>\n",
              "    .colab-df-container {\n",
              "      display:flex;\n",
              "      flex-wrap:wrap;\n",
              "      gap: 12px;\n",
              "    }\n",
              "\n",
              "    .colab-df-convert {\n",
              "      background-color: #E8F0FE;\n",
              "      border: none;\n",
              "      border-radius: 50%;\n",
              "      cursor: pointer;\n",
              "      display: none;\n",
              "      fill: #1967D2;\n",
              "      height: 32px;\n",
              "      padding: 0 0 0 0;\n",
              "      width: 32px;\n",
              "    }\n",
              "\n",
              "    .colab-df-convert:hover {\n",
              "      background-color: #E2EBFA;\n",
              "      box-shadow: 0px 1px 2px rgba(60, 64, 67, 0.3), 0px 1px 3px 1px rgba(60, 64, 67, 0.15);\n",
              "      fill: #174EA6;\n",
              "    }\n",
              "\n",
              "    [theme=dark] .colab-df-convert {\n",
              "      background-color: #3B4455;\n",
              "      fill: #D2E3FC;\n",
              "    }\n",
              "\n",
              "    [theme=dark] .colab-df-convert:hover {\n",
              "      background-color: #434B5C;\n",
              "      box-shadow: 0px 1px 3px 1px rgba(0, 0, 0, 0.15);\n",
              "      filter: drop-shadow(0px 1px 2px rgba(0, 0, 0, 0.3));\n",
              "      fill: #FFFFFF;\n",
              "    }\n",
              "  </style>\n",
              "\n",
              "      <script>\n",
              "        const buttonEl =\n",
              "          document.querySelector('#df-c0a08ec7-f733-416b-8b8b-9ce6fc41b541 button.colab-df-convert');\n",
              "        buttonEl.style.display =\n",
              "          google.colab.kernel.accessAllowed ? 'block' : 'none';\n",
              "\n",
              "        async function convertToInteractive(key) {\n",
              "          const element = document.querySelector('#df-c0a08ec7-f733-416b-8b8b-9ce6fc41b541');\n",
              "          const dataTable =\n",
              "            await google.colab.kernel.invokeFunction('convertToInteractive',\n",
              "                                                     [key], {});\n",
              "          if (!dataTable) return;\n",
              "\n",
              "          const docLinkHtml = 'Like what you see? Visit the ' +\n",
              "            '<a target=\"_blank\" href=https://colab.research.google.com/notebooks/data_table.ipynb>data table notebook</a>'\n",
              "            + ' to learn more about interactive tables.';\n",
              "          element.innerHTML = '';\n",
              "          dataTable['output_type'] = 'display_data';\n",
              "          await google.colab.output.renderOutput(dataTable, element);\n",
              "          const docLink = document.createElement('div');\n",
              "          docLink.innerHTML = docLinkHtml;\n",
              "          element.appendChild(docLink);\n",
              "        }\n",
              "      </script>\n",
              "    </div>\n",
              "  </div>\n",
              "  "
            ]
          },
          "metadata": {},
          "execution_count": 25
        }
      ]
    },
    {
      "cell_type": "code",
      "source": [
        "y_hats2 = Y_pred_lasso\n",
        "\n",
        "X_test['y_hats'] = y_hats2"
      ],
      "metadata": {
        "id": "e_AmnIocKkV9"
      },
      "id": "e_AmnIocKkV9",
      "execution_count": 26,
      "outputs": []
    },
    {
      "cell_type": "code",
      "source": [
        "X_test"
      ],
      "metadata": {
        "id": "wu4RKVqoMMbh",
        "outputId": "4a14b9fe-f6b9-4772-d7d5-fd5acf5e73df",
        "colab": {
          "base_uri": "https://localhost:8080/",
          "height": 423
        }
      },
      "id": "wu4RKVqoMMbh",
      "execution_count": 27,
      "outputs": [
        {
          "output_type": "execute_result",
          "data": {
            "text/plain": [
              "       Quantity  Volume (m^3)  Distance from India (m)        y_hats\n",
              "32573         5            13             15943.888517   5509.757236\n",
              "72332        47             7              3087.465141   2514.337235\n",
              "29792        69            14              3238.451579   9528.186317\n",
              "27839         3             8              6735.016571   -612.146221\n",
              "78927         1             4             15818.502114   -402.907396\n",
              "...         ...           ...                      ...           ...\n",
              "7814          6            10             15943.888517   4166.906576\n",
              "53047        18             6             16165.263816   3912.799640\n",
              "12647         1            10             15989.233629   3402.111409\n",
              "33083        76            13              7821.935046  11912.019296\n",
              "18632         4            15              5785.358640   2278.193091\n",
              "\n",
              "[32578 rows x 4 columns]"
            ],
            "text/html": [
              "\n",
              "  <div id=\"df-f0a45a4c-db75-423a-ab28-1f68ef55027c\">\n",
              "    <div class=\"colab-df-container\">\n",
              "      <div>\n",
              "<style scoped>\n",
              "    .dataframe tbody tr th:only-of-type {\n",
              "        vertical-align: middle;\n",
              "    }\n",
              "\n",
              "    .dataframe tbody tr th {\n",
              "        vertical-align: top;\n",
              "    }\n",
              "\n",
              "    .dataframe thead th {\n",
              "        text-align: right;\n",
              "    }\n",
              "</style>\n",
              "<table border=\"1\" class=\"dataframe\">\n",
              "  <thead>\n",
              "    <tr style=\"text-align: right;\">\n",
              "      <th></th>\n",
              "      <th>Quantity</th>\n",
              "      <th>Volume (m^3)</th>\n",
              "      <th>Distance from India (m)</th>\n",
              "      <th>y_hats</th>\n",
              "    </tr>\n",
              "  </thead>\n",
              "  <tbody>\n",
              "    <tr>\n",
              "      <th>32573</th>\n",
              "      <td>5</td>\n",
              "      <td>13</td>\n",
              "      <td>15943.888517</td>\n",
              "      <td>5509.757236</td>\n",
              "    </tr>\n",
              "    <tr>\n",
              "      <th>72332</th>\n",
              "      <td>47</td>\n",
              "      <td>7</td>\n",
              "      <td>3087.465141</td>\n",
              "      <td>2514.337235</td>\n",
              "    </tr>\n",
              "    <tr>\n",
              "      <th>29792</th>\n",
              "      <td>69</td>\n",
              "      <td>14</td>\n",
              "      <td>3238.451579</td>\n",
              "      <td>9528.186317</td>\n",
              "    </tr>\n",
              "    <tr>\n",
              "      <th>27839</th>\n",
              "      <td>3</td>\n",
              "      <td>8</td>\n",
              "      <td>6735.016571</td>\n",
              "      <td>-612.146221</td>\n",
              "    </tr>\n",
              "    <tr>\n",
              "      <th>78927</th>\n",
              "      <td>1</td>\n",
              "      <td>4</td>\n",
              "      <td>15818.502114</td>\n",
              "      <td>-402.907396</td>\n",
              "    </tr>\n",
              "    <tr>\n",
              "      <th>...</th>\n",
              "      <td>...</td>\n",
              "      <td>...</td>\n",
              "      <td>...</td>\n",
              "      <td>...</td>\n",
              "    </tr>\n",
              "    <tr>\n",
              "      <th>7814</th>\n",
              "      <td>6</td>\n",
              "      <td>10</td>\n",
              "      <td>15943.888517</td>\n",
              "      <td>4166.906576</td>\n",
              "    </tr>\n",
              "    <tr>\n",
              "      <th>53047</th>\n",
              "      <td>18</td>\n",
              "      <td>6</td>\n",
              "      <td>16165.263816</td>\n",
              "      <td>3912.799640</td>\n",
              "    </tr>\n",
              "    <tr>\n",
              "      <th>12647</th>\n",
              "      <td>1</td>\n",
              "      <td>10</td>\n",
              "      <td>15989.233629</td>\n",
              "      <td>3402.111409</td>\n",
              "    </tr>\n",
              "    <tr>\n",
              "      <th>33083</th>\n",
              "      <td>76</td>\n",
              "      <td>13</td>\n",
              "      <td>7821.935046</td>\n",
              "      <td>11912.019296</td>\n",
              "    </tr>\n",
              "    <tr>\n",
              "      <th>18632</th>\n",
              "      <td>4</td>\n",
              "      <td>15</td>\n",
              "      <td>5785.358640</td>\n",
              "      <td>2278.193091</td>\n",
              "    </tr>\n",
              "  </tbody>\n",
              "</table>\n",
              "<p>32578 rows × 4 columns</p>\n",
              "</div>\n",
              "      <button class=\"colab-df-convert\" onclick=\"convertToInteractive('df-f0a45a4c-db75-423a-ab28-1f68ef55027c')\"\n",
              "              title=\"Convert this dataframe to an interactive table.\"\n",
              "              style=\"display:none;\">\n",
              "        \n",
              "  <svg xmlns=\"http://www.w3.org/2000/svg\" height=\"24px\"viewBox=\"0 0 24 24\"\n",
              "       width=\"24px\">\n",
              "    <path d=\"M0 0h24v24H0V0z\" fill=\"none\"/>\n",
              "    <path d=\"M18.56 5.44l.94 2.06.94-2.06 2.06-.94-2.06-.94-.94-2.06-.94 2.06-2.06.94zm-11 1L8.5 8.5l.94-2.06 2.06-.94-2.06-.94L8.5 2.5l-.94 2.06-2.06.94zm10 10l.94 2.06.94-2.06 2.06-.94-2.06-.94-.94-2.06-.94 2.06-2.06.94z\"/><path d=\"M17.41 7.96l-1.37-1.37c-.4-.4-.92-.59-1.43-.59-.52 0-1.04.2-1.43.59L10.3 9.45l-7.72 7.72c-.78.78-.78 2.05 0 2.83L4 21.41c.39.39.9.59 1.41.59.51 0 1.02-.2 1.41-.59l7.78-7.78 2.81-2.81c.8-.78.8-2.07 0-2.86zM5.41 20L4 18.59l7.72-7.72 1.47 1.35L5.41 20z\"/>\n",
              "  </svg>\n",
              "      </button>\n",
              "      \n",
              "  <style>\n",
              "    .colab-df-container {\n",
              "      display:flex;\n",
              "      flex-wrap:wrap;\n",
              "      gap: 12px;\n",
              "    }\n",
              "\n",
              "    .colab-df-convert {\n",
              "      background-color: #E8F0FE;\n",
              "      border: none;\n",
              "      border-radius: 50%;\n",
              "      cursor: pointer;\n",
              "      display: none;\n",
              "      fill: #1967D2;\n",
              "      height: 32px;\n",
              "      padding: 0 0 0 0;\n",
              "      width: 32px;\n",
              "    }\n",
              "\n",
              "    .colab-df-convert:hover {\n",
              "      background-color: #E2EBFA;\n",
              "      box-shadow: 0px 1px 2px rgba(60, 64, 67, 0.3), 0px 1px 3px 1px rgba(60, 64, 67, 0.15);\n",
              "      fill: #174EA6;\n",
              "    }\n",
              "\n",
              "    [theme=dark] .colab-df-convert {\n",
              "      background-color: #3B4455;\n",
              "      fill: #D2E3FC;\n",
              "    }\n",
              "\n",
              "    [theme=dark] .colab-df-convert:hover {\n",
              "      background-color: #434B5C;\n",
              "      box-shadow: 0px 1px 3px 1px rgba(0, 0, 0, 0.15);\n",
              "      filter: drop-shadow(0px 1px 2px rgba(0, 0, 0, 0.3));\n",
              "      fill: #FFFFFF;\n",
              "    }\n",
              "  </style>\n",
              "\n",
              "      <script>\n",
              "        const buttonEl =\n",
              "          document.querySelector('#df-f0a45a4c-db75-423a-ab28-1f68ef55027c button.colab-df-convert');\n",
              "        buttonEl.style.display =\n",
              "          google.colab.kernel.accessAllowed ? 'block' : 'none';\n",
              "\n",
              "        async function convertToInteractive(key) {\n",
              "          const element = document.querySelector('#df-f0a45a4c-db75-423a-ab28-1f68ef55027c');\n",
              "          const dataTable =\n",
              "            await google.colab.kernel.invokeFunction('convertToInteractive',\n",
              "                                                     [key], {});\n",
              "          if (!dataTable) return;\n",
              "\n",
              "          const docLinkHtml = 'Like what you see? Visit the ' +\n",
              "            '<a target=\"_blank\" href=https://colab.research.google.com/notebooks/data_table.ipynb>data table notebook</a>'\n",
              "            + ' to learn more about interactive tables.';\n",
              "          element.innerHTML = '';\n",
              "          dataTable['output_type'] = 'display_data';\n",
              "          await google.colab.output.renderOutput(dataTable, element);\n",
              "          const docLink = document.createElement('div');\n",
              "          docLink.innerHTML = docLinkHtml;\n",
              "          element.appendChild(docLink);\n",
              "        }\n",
              "      </script>\n",
              "    </div>\n",
              "  </div>\n",
              "  "
            ]
          },
          "metadata": {},
          "execution_count": 27
        }
      ]
    },
    {
      "cell_type": "code",
      "source": [
        "X_test.to_csv(r'my_data.csv', index=False)"
      ],
      "metadata": {
        "id": "z-YrVO9uMSVa"
      },
      "id": "z-YrVO9uMSVa",
      "execution_count": 28,
      "outputs": []
    },
    {
      "cell_type": "code",
      "source": [],
      "metadata": {
        "id": "_Mx3PEudOevJ"
      },
      "id": "_Mx3PEudOevJ",
      "execution_count": null,
      "outputs": []
    }
  ],
  "metadata": {
    "kernelspec": {
      "display_name": "Python 3 (ipykernel)",
      "language": "python",
      "name": "python3"
    },
    "language_info": {
      "codemirror_mode": {
        "name": "ipython",
        "version": 3
      },
      "file_extension": ".py",
      "mimetype": "text/x-python",
      "name": "python",
      "nbconvert_exporter": "python",
      "pygments_lexer": "ipython3",
      "version": "3.10.1"
    },
    "colab": {
      "provenance": []
    }
  },
  "nbformat": 4,
  "nbformat_minor": 5
}